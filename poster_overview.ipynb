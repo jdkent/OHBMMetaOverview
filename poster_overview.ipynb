{
 "cells": [
  {
   "cell_type": "code",
   "execution_count": 1,
   "id": "02d5ebeb-e475-44ac-bbc2-7b3512aaad9e",
   "metadata": {},
   "outputs": [],
   "source": [
    "import pandas as pd"
   ]
  },
  {
   "cell_type": "code",
   "execution_count": 2,
   "id": "bf5b3d99-b484-429f-b2c1-d72415fcf262",
   "metadata": {},
   "outputs": [
    {
     "data": {
      "text/html": [
       "<div>\n",
       "<style scoped>\n",
       "    .dataframe tbody tr th:only-of-type {\n",
       "        vertical-align: middle;\n",
       "    }\n",
       "\n",
       "    .dataframe tbody tr th {\n",
       "        vertical-align: top;\n",
       "    }\n",
       "\n",
       "    .dataframe thead th {\n",
       "        text-align: right;\n",
       "    }\n",
       "</style>\n",
       "<table border=\"1\" class=\"dataframe\">\n",
       "  <thead>\n",
       "    <tr style=\"text-align: right;\">\n",
       "      <th></th>\n",
       "      <th>poster</th>\n",
       "      <th>datatype</th>\n",
       "      <th>software</th>\n",
       "      <th>analysis</th>\n",
       "    </tr>\n",
       "  </thead>\n",
       "  <tbody>\n",
       "    <tr>\n",
       "      <th>0</th>\n",
       "      <td>416</td>\n",
       "      <td>PET</td>\n",
       "      <td>CMA</td>\n",
       "      <td>ROI</td>\n",
       "    </tr>\n",
       "    <tr>\n",
       "      <th>1</th>\n",
       "      <td>497</td>\n",
       "      <td>VBM</td>\n",
       "      <td>GingerAle</td>\n",
       "      <td>Coordinate</td>\n",
       "    </tr>\n",
       "    <tr>\n",
       "      <th>2</th>\n",
       "      <td>591</td>\n",
       "      <td>tfMRI</td>\n",
       "      <td>SDM</td>\n",
       "      <td>Image</td>\n",
       "    </tr>\n",
       "    <tr>\n",
       "      <th>3</th>\n",
       "      <td>608</td>\n",
       "      <td>VBM</td>\n",
       "      <td>GingerAle</td>\n",
       "      <td>Coordinate</td>\n",
       "    </tr>\n",
       "    <tr>\n",
       "      <th>4</th>\n",
       "      <td>608</td>\n",
       "      <td>DWI</td>\n",
       "      <td>GingerAle</td>\n",
       "      <td>Coordinate</td>\n",
       "    </tr>\n",
       "  </tbody>\n",
       "</table>\n",
       "</div>"
      ],
      "text/plain": [
       "   poster datatype   software    analysis\n",
       "0     416      PET        CMA         ROI\n",
       "1     497      VBM  GingerAle  Coordinate\n",
       "2     591    tfMRI        SDM       Image\n",
       "3     608      VBM  GingerAle  Coordinate\n",
       "4     608      DWI  GingerAle  Coordinate"
      ]
     },
     "execution_count": 2,
     "metadata": {},
     "output_type": "execute_result"
    }
   ],
   "source": [
    "posters = pd.read_csv('./posters.tsv', sep='\\t')\n",
    "posters.head()"
   ]
  },
  {
   "cell_type": "code",
   "execution_count": 3,
   "id": "096508c8-c014-4305-84a2-d7d92a4aa4be",
   "metadata": {},
   "outputs": [
    {
     "data": {
      "text/plain": [
       "<AxesSubplot:title={'center':'Input Data'}>"
      ]
     },
     "execution_count": 3,
     "metadata": {},
     "output_type": "execute_result"
    },
    {
     "data": {
      "image/png": "[encoded data removed]",
      "text/plain": [
       "<Figure size 432x288 with 1 Axes>"
      ]
     },
     "metadata": {
      "needs_background": "light"
     },
     "output_type": "display_data"
    }
   ],
   "source": [
    "posters['datatype'].value_counts().plot(kind='bar', title=\"Input Data\")"
   ]
  },
  {
   "cell_type": "code",
   "execution_count": 4,
   "id": "64019565-5aee-40dd-a9b9-9aae3262813a",
   "metadata": {},
   "outputs": [],
   "source": [
    "# since posters could include multiple input data types for their meta-analysis, we want the software and analysis type counts\n",
    "# to only be one\n",
    "single_posters = posters.drop_duplicates(subset=[\"poster\"], ignore_index=True)"
   ]
  },
  {
   "cell_type": "code",
   "execution_count": 5,
   "id": "df11443c-588a-4085-b193-961e66337280",
   "metadata": {},
   "outputs": [
    {
     "data": {
      "text/plain": [
       "<AxesSubplot:title={'center':'Software'}>"
      ]
     },
     "execution_count": 5,
     "metadata": {},
     "output_type": "execute_result"
    },
    {
     "data": {
      "image/png": "[encoded data removed]",
      "text/plain": [
       "<Figure size 432x288 with 1 Axes>"
      ]
     },
     "metadata": {
      "needs_background": "light"
     },
     "output_type": "display_data"
    }
   ],
   "source": [
    "single_posters['software'].value_counts().plot(kind='bar', title=\"Software\")"
   ]
  },
  {
   "cell_type": "code",
   "execution_count": 6,
   "id": "6f1cffe7-80d8-4290-9801-aa981525551f",
   "metadata": {},
   "outputs": [
    {
     "data": {
      "text/plain": [
       "<AxesSubplot:title={'center':'Analysis Type'}>"
      ]
     },
     "execution_count": 6,
     "metadata": {},
     "output_type": "execute_result"
    },
    {
     "data": {
      "image/png": "[encoded data removed]",
      "text/plain": [
       "<Figure size 432x288 with 1 Axes>"
      ]
     },
     "metadata": {
      "needs_background": "light"
     },
     "output_type": "display_data"
    }
   ],
   "source": [
    "single_posters['analysis'].value_counts().plot(kind='bar', title=\"Analysis Type\")"
   ]
  }
 ],
 "metadata": {
  "kernelspec": {
   "display_name": "Python 3 (ipykernel)",
   "language": "python",
   "name": "python3"
  },
  "language_info": {
   "codemirror_mode": {
    "name": "ipython",
    "version": 3
   },
   "file_extension": ".py",
   "mimetype": "text/x-python",
   "name": "python",
   "nbconvert_exporter": "python",
   "pygments_lexer": "ipython3",
   "version": "3.8.10"
  }
 },
 "nbformat": 4,
 "nbformat_minor": 5
}
